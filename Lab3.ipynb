{
 "cells": [
  {
   "cell_type": "code",
   "execution_count": 1,
   "id": "0b85e73f-6d5f-4ac4-9736-0594dd5547f2",
   "metadata": {},
   "outputs": [
    {
     "data": {
      "text/html": [
       "<div>\n",
       "<style scoped>\n",
       "    .dataframe tbody tr th:only-of-type {\n",
       "        vertical-align: middle;\n",
       "    }\n",
       "\n",
       "    .dataframe tbody tr th {\n",
       "        vertical-align: top;\n",
       "    }\n",
       "\n",
       "    .dataframe thead th {\n",
       "        text-align: right;\n",
       "    }\n",
       "</style>\n",
       "<table border=\"1\" class=\"dataframe\">\n",
       "  <thead>\n",
       "    <tr style=\"text-align: right;\">\n",
       "      <th></th>\n",
       "      <th>TV</th>\n",
       "      <th>Sales</th>\n",
       "    </tr>\n",
       "  </thead>\n",
       "  <tbody>\n",
       "    <tr>\n",
       "      <th>0</th>\n",
       "      <td>230.1</td>\n",
       "      <td>22.1</td>\n",
       "    </tr>\n",
       "    <tr>\n",
       "      <th>1</th>\n",
       "      <td>44.5</td>\n",
       "      <td>10.4</td>\n",
       "    </tr>\n",
       "    <tr>\n",
       "      <th>2</th>\n",
       "      <td>17.2</td>\n",
       "      <td>9.3</td>\n",
       "    </tr>\n",
       "    <tr>\n",
       "      <th>3</th>\n",
       "      <td>151.5</td>\n",
       "      <td>18.5</td>\n",
       "    </tr>\n",
       "    <tr>\n",
       "      <th>4</th>\n",
       "      <td>180.8</td>\n",
       "      <td>12.9</td>\n",
       "    </tr>\n",
       "  </tbody>\n",
       "</table>\n",
       "</div>"
      ],
      "text/plain": [
       "      TV  Sales\n",
       "0  230.1   22.1\n",
       "1   44.5   10.4\n",
       "2   17.2    9.3\n",
       "3  151.5   18.5\n",
       "4  180.8   12.9"
      ]
     },
     "execution_count": 1,
     "metadata": {},
     "output_type": "execute_result"
    }
   ],
   "source": [
    "# 1. Import dataset and display first 5 rows\n",
    "import pandas as pd \n",
    "df = pd.read_csv('/home/user/Downloads/Ml_Lab/tvmarketing.csv')\n",
    "df.head(5)"
   ]
  },
  {
   "cell_type": "code",
   "execution_count": 4,
   "id": "a4fa2395-c38d-4303-9bfd-a6ec9bdd842c",
   "metadata": {},
   "outputs": [
    {
     "data": {
      "text/plain": [
       "TV       float64\n",
       "Sales    float64\n",
       "dtype: object"
      ]
     },
     "execution_count": 4,
     "metadata": {},
     "output_type": "execute_result"
    }
   ],
   "source": [
    "# 2. Check column data types\n",
    "df.dtypes"
   ]
  },
  {
   "cell_type": "code",
   "execution_count": 6,
   "id": "90ee99ca-50a8-4d08-8ee7-f8b1524f922b",
   "metadata": {},
   "outputs": [
    {
     "data": {
      "text/plain": [
       "(200, 2)"
      ]
     },
     "execution_count": 6,
     "metadata": {},
     "output_type": "execute_result"
    }
   ],
   "source": [
    "# 3. Check the shape of the Data Frame (rows, columns)\n",
    "df.shape"
   ]
  },
  {
   "cell_type": "code",
   "execution_count": 8,
   "id": "ff9a3546-9a9b-479a-845a-60eb0012da76",
   "metadata": {},
   "outputs": [
    {
     "data": {
      "text/html": [
       "<div>\n",
       "<style scoped>\n",
       "    .dataframe tbody tr th:only-of-type {\n",
       "        vertical-align: middle;\n",
       "    }\n",
       "\n",
       "    .dataframe tbody tr th {\n",
       "        vertical-align: top;\n",
       "    }\n",
       "\n",
       "    .dataframe thead th {\n",
       "        text-align: right;\n",
       "    }\n",
       "</style>\n",
       "<table border=\"1\" class=\"dataframe\">\n",
       "  <thead>\n",
       "    <tr style=\"text-align: right;\">\n",
       "      <th></th>\n",
       "      <th>TV</th>\n",
       "      <th>Sales</th>\n",
       "    </tr>\n",
       "  </thead>\n",
       "  <tbody>\n",
       "    <tr>\n",
       "      <th>count</th>\n",
       "      <td>200.000000</td>\n",
       "      <td>200.000000</td>\n",
       "    </tr>\n",
       "    <tr>\n",
       "      <th>mean</th>\n",
       "      <td>147.042500</td>\n",
       "      <td>14.022500</td>\n",
       "    </tr>\n",
       "    <tr>\n",
       "      <th>std</th>\n",
       "      <td>85.854236</td>\n",
       "      <td>5.217457</td>\n",
       "    </tr>\n",
       "    <tr>\n",
       "      <th>min</th>\n",
       "      <td>0.700000</td>\n",
       "      <td>1.600000</td>\n",
       "    </tr>\n",
       "    <tr>\n",
       "      <th>25%</th>\n",
       "      <td>74.375000</td>\n",
       "      <td>10.375000</td>\n",
       "    </tr>\n",
       "    <tr>\n",
       "      <th>50%</th>\n",
       "      <td>149.750000</td>\n",
       "      <td>12.900000</td>\n",
       "    </tr>\n",
       "    <tr>\n",
       "      <th>75%</th>\n",
       "      <td>218.825000</td>\n",
       "      <td>17.400000</td>\n",
       "    </tr>\n",
       "    <tr>\n",
       "      <th>max</th>\n",
       "      <td>296.400000</td>\n",
       "      <td>27.000000</td>\n",
       "    </tr>\n",
       "  </tbody>\n",
       "</table>\n",
       "</div>"
      ],
      "text/plain": [
       "               TV       Sales\n",
       "count  200.000000  200.000000\n",
       "mean   147.042500   14.022500\n",
       "std     85.854236    5.217457\n",
       "min      0.700000    1.600000\n",
       "25%     74.375000   10.375000\n",
       "50%    149.750000   12.900000\n",
       "75%    218.825000   17.400000\n",
       "max    296.400000   27.000000"
      ]
     },
     "execution_count": 8,
     "metadata": {},
     "output_type": "execute_result"
    }
   ],
   "source": [
    "# 4. Look at summary statistics\n",
    "df.describe()"
   ]
  },
  {
   "cell_type": "code",
   "execution_count": 13,
   "id": "e276759f-3003-412f-abbb-4e0485429ca8",
   "metadata": {},
   "outputs": [
    {
     "data": {
      "image/png": "[encoded data removed]",
      "text/plain": [
       "<Figure size 1200x800 with 1 Axes>"
      ]
     },
     "metadata": {},
     "output_type": "display_data"
    }
   ],
   "source": [
    "# 5. Visualize the relationship between the features and the dependent variable using scatterplots\n",
    "import seaborn as sns\n",
    "import matplotlib.pyplot as plt\n",
    "\n",
    "plt.figure(figsize=(12,8))\n",
    "sns.scatterplot(x=df['TV'],y=df['Sales'])\n",
    "plt.title(\"Tv and sales\")\n",
    "plt.xlabel(\"TV\")\n",
    "plt.ylabel(\"Sales\")\n",
    "plt.show()"
   ]
  },
  {
   "cell_type": "code",
   "execution_count": 38,
   "id": "7df8eb88-7cc3-4e85-8c00-6d4c17f5187e",
   "metadata": {},
   "outputs": [],
   "source": [
    "# 6. Prepare X (feature variables) and y (response variable)\n",
    "x=df['TV']\n",
    "y=df['Sales']\n"
   ]
  },
  {
   "cell_type": "code",
   "execution_count": 39,
   "id": "c048517a-90c5-41b5-ac0c-d2dcaf323826",
   "metadata": {},
   "outputs": [],
   "source": [
    "# 7. Split Data into Training and Testing Sets (70%-Train 30%-Test) - X_train,y_train, X_test, y_test\n",
    "from sklearn.model_selection import train_test_split\n",
    "x_train,x_test,y_train,y_test = train_test_split(x,y,test_size=0.3,random_state=42)"
   ]
  },
  {
   "cell_type": "code",
   "execution_count": 40,
   "id": "3d3236ff-bd29-4db5-96a6-cc723aa3e4da",
   "metadata": {},
   "outputs": [
    {
     "name": "stdout",
     "output_type": "stream",
     "text": [
      "train data: (140,) (140,)\n",
      "test data: (60,) (60,)\n"
     ]
    }
   ],
   "source": [
    "# 8. Print the shape of train data and test data\n",
    "print(\"train data:\",x_train.shape,y_train.shape)\n",
    "print(\"test data:\",x_test.shape,y_test.shape)"
   ]
  },
  {
   "cell_type": "code",
   "execution_count": 41,
   "id": "655ce5d2-5394-465a-8138-d487cc758262",
   "metadata": {},
   "outputs": [
    {
     "name": "stdout",
     "output_type": "stream",
     "text": [
      "b1: 0.04640780212815278\n",
      "b0: 7.2394598307511355\n"
     ]
    }
   ],
   "source": [
    "# 9. Perform Linear Regression (on train data) without using any library and print the coefficients values\n",
    "import numpy as np\n",
    "x_mean = np.mean(x_train)\n",
    "y_mean= np.mean(y_train)\n",
    "\n",
    "num=np.sum((x_train-x_mean)*(y_train-y_mean))\n",
    "den=np.sum((x_train-x_mean)**2)\n",
    "b1=num/den\n",
    "b0=y_mean-(b1*x_mean)\n",
    "print(\"b1:\",b1)\n",
    "print(\"b0:\",b0)"
   ]
  },
  {
   "cell_type": "code",
   "execution_count": 42,
   "id": "f39081e0-fd1b-43d0-9a8b-5164739c4d42",
   "metadata": {},
   "outputs": [
    {
     "data": {
      "text/plain": [
       "95     14.817854\n",
       "15     16.307544\n",
       "30     20.832305\n",
       "158     7.782431\n",
       "128    17.463099\n",
       "115    10.724686\n",
       "69     17.300671\n",
       "170     9.559850\n",
       "174    17.560555\n",
       "45     15.365466\n",
       "66      8.701306\n",
       "182     9.847578\n",
       "165    18.122089\n",
       "78      7.490062\n",
       "186    13.713348\n",
       "177    15.138068\n",
       "56      7.578237\n",
       "152    16.409642\n",
       "82     10.733967\n",
       "68     18.256672\n",
       "124    17.890050\n",
       "16     10.385909\n",
       "148     9.002956\n",
       "93     18.883177\n",
       "65     10.441598\n",
       "60      9.722277\n",
       "84     17.147526\n",
       "67     13.704067\n",
       "125    11.286220\n",
       "132     7.629285\n",
       "9      16.511739\n",
       "18     10.450880\n",
       "55     16.469972\n",
       "75      8.023752\n",
       "150    20.266130\n",
       "104    18.293798\n",
       "135     9.480957\n",
       "137    19.941275\n",
       "164    12.678454\n",
       "76      8.515674\n",
       "79     12.622765\n",
       "197    15.453641\n",
       "38      9.239636\n",
       "24     10.130666\n",
       "122    17.634808\n",
       "195     9.012238\n",
       "29     10.515851\n",
       "19     14.075329\n",
       "143    12.093716\n",
       "86     10.780375\n",
       "114    10.868550\n",
       "173    15.054534\n",
       "5       7.643208\n",
       "126     7.601441\n",
       "117    10.785016\n",
       "73     13.244629\n",
       "140    10.645793\n",
       "98     20.683800\n",
       "172     8.149053\n",
       "96     16.409642\n",
       "Name: TV, dtype: float64"
      ]
     },
     "execution_count": 42,
     "metadata": {},
     "output_type": "execute_result"
    }
   ],
   "source": [
    "# 10.Create the model using the calculated coefficients and make predictions on the testing set\n",
    "y_predict = b0+(b1*x_test)\n",
    "y_predict"
   ]
  },
  {
   "cell_type": "code",
   "execution_count": 44,
   "id": "cb067d8e-e682-40a6-b589-cc80106aad06",
   "metadata": {},
   "outputs": [
    {
     "name": "stdout",
     "output_type": "stream",
     "text": [
      "[14.81785392 16.30754437 20.83230507  7.78243112 17.46309864 10.72468577\n",
      " 17.30067133  9.55984994 17.56055502 15.36546598  8.7013056   9.84757831\n",
      " 18.12208943  7.49006196 13.71334823 15.13806775  7.57823679 16.40964153\n",
      " 10.73396733 18.25667206 17.89005042 10.38590882  9.00295631 18.88317738\n",
      " 10.44159818  9.72227724 17.14752559 13.70406667 11.28622018  7.62928537\n",
      " 16.5117387  10.45087974 16.46997167  8.02375169 20.26612989 18.2937983\n",
      "  9.48095667 19.94127527 12.67845424  8.51567439 12.62276488 15.45364081\n",
      "  9.2396361  10.1306659  17.63480751  9.01223787 10.51585066 14.07532908\n",
      " 12.09371593 10.78037513 10.86854996 15.05453371  7.64320771  7.60144069\n",
      " 10.78501591 13.24462943 10.64579251 20.68380011  8.14905275 16.40964153]\n"
     ]
    }
   ],
   "source": [
    "# 11.Perform Linear Regression using library(sklearn)\n",
    "from sklearn.linear_model import LinearRegression\n",
    "from sklearn.model_selection import train_test_split\n",
    "x=df[['TV']]\n",
    "y=df['Sales']\n",
    "x_train,x_test,y_train,y_test = train_test_split(x,y,test_size=0.3,random_state=42)\n",
    "\n",
    "model=LinearRegression()\n",
    "data = model.fit(x_train,y_train)\n",
    "z=model.predict(x_test)\n",
    "print(z)"
   ]
  },
  {
   "cell_type": "code",
   "execution_count": 45,
   "id": "7dff68d0-24f3-4848-bda4-8ea8ce348755",
   "metadata": {},
   "outputs": [
    {
     "name": "stdout",
     "output_type": "stream",
     "text": [
      "coeff: [0.0464078]\n",
      "incept: 7.23945983075114\n"
     ]
    }
   ],
   "source": [
    "# 12.Print the intercept and coefficients\n",
    "print(\"coeff:\",model.coef_)\n",
    "print(\"incept:\",model.intercept_)"
   ]
  },
  {
   "cell_type": "code",
   "execution_count": 46,
   "id": "26984be4-4b97-4853-9edf-c1e3409a02c9",
   "metadata": {},
   "outputs": [
    {
     "data": {
      "text/plain": [
       "array([14.81785392, 16.30754437, 20.83230507,  7.78243112, 17.46309864,\n",
       "       10.72468577, 17.30067133,  9.55984994, 17.56055502, 15.36546598,\n",
       "        8.7013056 ,  9.84757831, 18.12208943,  7.49006196, 13.71334823,\n",
       "       15.13806775,  7.57823679, 16.40964153, 10.73396733, 18.25667206,\n",
       "       17.89005042, 10.38590882,  9.00295631, 18.88317738, 10.44159818,\n",
       "        9.72227724, 17.14752559, 13.70406667, 11.28622018,  7.62928537,\n",
       "       16.5117387 , 10.45087974, 16.46997167,  8.02375169, 20.26612989,\n",
       "       18.2937983 ,  9.48095667, 19.94127527, 12.67845424,  8.51567439,\n",
       "       12.62276488, 15.45364081,  9.2396361 , 10.1306659 , 17.63480751,\n",
       "        9.01223787, 10.51585066, 14.07532908, 12.09371593, 10.78037513,\n",
       "       10.86854996, 15.05453371,  7.64320771,  7.60144069, 10.78501591,\n",
       "       13.24462943, 10.64579251, 20.68380011,  8.14905275, 16.40964153])"
      ]
     },
     "execution_count": 46,
     "metadata": {},
     "output_type": "execute_result"
    }
   ],
   "source": [
    "# 13.Make predictions on the testing set - y_pred\n",
    "y_predict = model.predict(x_test)\n",
    "y_predict"
   ]
  },
  {
   "cell_type": "code",
   "execution_count": 48,
   "id": "b43da056-f195-44c6-8e12-74364911c82b",
   "metadata": {},
   "outputs": [
    {
     "data": {
      "image/png": "[encoded data removed]",
      "text/plain": [
       "<Figure size 640x480 with 1 Axes>"
      ]
     },
     "metadata": {},
     "output_type": "display_data"
    }
   ],
   "source": [
    "# 14.Plot train data and the model\n",
    "plt.scatter(x_train,y_train,label=\"Train Data\")\n",
    "plt.plot(x_train,model.predict(x_train),color=\"red\",label=\"Regression Line\")\n",
    "plt.xlabel(\"TV Marketing\")\n",
    "plt.ylabel(\"Sales\")\n",
    "plt.legend()\n",
    "plt.show()"
   ]
  },
  {
   "cell_type": "code",
   "execution_count": 50,
   "id": "a8cf5f28-d397-4608-8b3c-64a2a99dafcc",
   "metadata": {},
   "outputs": [
    {
     "data": {
      "image/png": "[encoded data removed]",
      "text/plain": [
       "<Figure size 640x480 with 1 Axes>"
      ]
     },
     "metadata": {},
     "output_type": "display_data"
    }
   ],
   "source": [
    "# 15.Plot test data and the model\n",
    "plt.scatter(x_test,y_test,label=\"Test Data\")\n",
    "plt.plot(x_test,y_predict,color=\"red\",label=\"Regression Line\")\n",
    "plt.xlabel(\"TV\")\n",
    "plt.ylabel(\"Sales\")\n",
    "plt.legend()\n",
    "plt.show()"
   ]
  },
  {
   "cell_type": "code",
   "execution_count": 53,
   "id": "f964376c-04f5-425d-95c6-dbb6a4192785",
   "metadata": {},
   "outputs": [
    {
     "name": "stdout",
     "output_type": "stream",
     "text": [
      "rms: 8.970991242413616\n",
      "r2: 0.6714477229302764\n"
     ]
    }
   ],
   "source": [
    "# 16.Print Mean Squared Error and R Squared Value\n",
    "from sklearn.metrics import mean_squared_error,r2_score\n",
    "rms=mean_squared_error(y_test,y_predict)\n",
    "r2=r2_score(y_test,y_predict)\n",
    "print(\"rms:\",rms)\n",
    "print(\"r2:\",r2)"
   ]
  },
  {
   "cell_type": "code",
   "execution_count": 57,
   "id": "5867f002-59e7-43ba-ad5b-661e1c92a30e",
   "metadata": {},
   "outputs": [
    {
     "data": {
      "text/plain": [
       "0.6657830284980398"
      ]
     },
     "execution_count": 57,
     "metadata": {},
     "output_type": "execute_result"
    }
   ],
   "source": [
    "# 17.Calculate and print R Squared and Adjusted R Squared values without any library\n",
    "num=np.sum((y_test-np.mean(y_test))**2)\n",
    "den=np.sum((y_test-y_predict)**2)\n",
    "r2_man = 1-(den/num)\n",
    "adjusted_r2 = 1-((1-r2_man)*(len(y_test)-1)/(len(y_test)-x_test.shape[1]-1))\n",
    "adjusted_r2\n"
   ]
  }
 ],
 "metadata": {
  "kernelspec": {
   "display_name": "Python 3 (ipykernel)",
   "language": "python",
   "name": "python3"
  },
  "language_info": {
   "codemirror_mode": {
    "name": "ipython",
    "version": 3
   },
   "file_extension": ".py",
   "mimetype": "text/x-python",
   "name": "python",
   "nbconvert_exporter": "python",
   "pygments_lexer": "ipython3",
   "version": "3.11.7"
  }
 },
 "nbformat": 4,
 "nbformat_minor": 5
}
